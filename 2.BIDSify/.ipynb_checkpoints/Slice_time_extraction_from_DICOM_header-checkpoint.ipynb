{
 "cells": [
  {
   "cell_type": "markdown",
   "metadata": {},
   "source": [
    "This is just a draft of a notebook that uses the package 'pydicom' to read slice times from your DICOM headers. This info is stored in the field called 'MosaicRefAcqTimes' which for me corresponds to '0x00191029' (see below). This notebook needs a bit of editing to be generalizable."
   ]
  },
  {
   "cell_type": "code",
   "execution_count": 1,
   "metadata": {},
   "outputs": [],
   "source": [
    "import numpy as np\n",
    "import pandas as pd\n",
    "import sys, glob, os, json, gzip, shutil, pydicom\n",
    "from shutil import copyfile"
   ]
  },
  {
   "cell_type": "code",
   "execution_count": null,
   "metadata": {},
   "outputs": [],
   "source": [
    "sub = 1\n",
    "print('sub %i\\n'%sub)\n",
    "\n",
    "# List all DICOMs for this subject (obviously you need to change the path)\n",
    "dcm_list = glob.glob('/YOUR_MOUNTED_OSCAR_PROJECT_DIRECTORY/MRI_scanner/%03d_%03d/*/*SMS*/*.IMA'%(sub,sub))\n",
    "\n",
    "# Take one of the DICOMs (why not the 101st)\n",
    "dcm_filename = dcm_list[100]\n",
    "print(dcm_filename)\n",
    "\n",
    "# Read dicom\n",
    "ds = pydicom.dcmread(dcm_filename)\n",
    "\n",
    "# Get slice times\n",
    "slice_times_dicom = ds[0x00191029].value # Note these are in miliseconds, fmriprep wants seconds\n",
    "print(np.divide(slice_times_dicom,1000))"
   ]
  }
 ],
 "metadata": {
  "kernelspec": {
   "display_name": "Python 3",
   "language": "python",
   "name": "python3"
  },
  "language_info": {
   "codemirror_mode": {
    "name": "ipython",
    "version": 3
   },
   "file_extension": ".py",
   "mimetype": "text/x-python",
   "name": "python",
   "nbconvert_exporter": "python",
   "pygments_lexer": "ipython3",
   "version": "3.7.3"
  }
 },
 "nbformat": 4,
 "nbformat_minor": 2
}
